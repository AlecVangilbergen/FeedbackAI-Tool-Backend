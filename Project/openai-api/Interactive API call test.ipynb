{
 "cells": [
  {
   "cell_type": "markdown",
   "metadata": {},
   "source": [
    "# OpenAI API test"
   ]
  },
  {
   "cell_type": "markdown",
   "metadata": {},
   "source": [
    "## Load keys"
   ]
  },
  {
   "cell_type": "code",
   "execution_count": 2,
   "metadata": {},
   "outputs": [],
   "source": [
    "from dotenv import load_dotenv\n",
    "import os\n",
    "\n",
    "load_dotenv()\n",
    "\n",
    "openai_api_key=os.getenv('OPENAI_API_KEY', 'YourAPIKey')\n"
   ]
  },
  {
   "cell_type": "markdown",
   "metadata": {},
   "source": [
    "## Show installed packages\n",
    "\n",
    "Check if openai packages etc are installed"
   ]
  },
  {
   "cell_type": "code",
   "execution_count": 3,
   "metadata": {},
   "outputs": [],
   "source": [
    "# Uncomment to install required packages\n",
    "#%pip install openai"
   ]
  },
  {
   "cell_type": "code",
   "execution_count": 5,
   "metadata": {},
   "outputs": [
    {
     "name": "stdout",
     "output_type": "stream",
     "text": [
      "Package              Version\n",
      "-------------------- --------\n",
      "annotated-types      0.6.0\n",
      "anyio                4.3.0\n",
      "argon2-cffi          23.1.0\n",
      "argon2-cffi-bindings 21.2.0\n",
      "asttokens            2.4.1\n",
      "bcrypt               4.1.2\n",
      "certifi              2024.2.2\n",
      "cffi                 1.16.0\n",
      "click                8.1.7\n",
      "colorama             0.4.6\n",
      "comm                 0.2.2\n",
      "cryptography         42.0.5\n",
      "debugpy              1.6.7\n",
      "decorator            5.1.1\n",
      "distro               1.9.0\n",
      "dnspython            2.6.1\n",
      "ecdsa                0.18.0\n",
      "email_validator      2.1.1\n",
      "exceptiongroup       1.2.0\n",
      "executing            2.0.1\n",
      "fastapi              0.110.0\n",
      "fastapi-jwt-auth     0.2.0\n",
      "fastapi-pagination   0.12.21\n",
      "fastapi-users        13.0.0\n",
      "greenlet             3.0.3\n",
      "h11                  0.14.0\n",
      "httpcore             1.0.4\n",
      "httpx                0.27.0\n",
      "idna                 3.6\n",
      "importlib_metadata   7.1.0\n",
      "ipykernel            6.29.3\n",
      "ipython              8.22.2\n",
      "jedi                 0.19.1\n",
      "jose                 1.0.0\n",
      "jupyter_client       8.6.1\n",
      "jupyter_core         5.7.2\n",
      "makefun              1.15.2\n",
      "matplotlib-inline    0.1.6\n",
      "nest_asyncio         1.6.0\n",
      "openai               1.14.2\n",
      "packaging            24.0\n",
      "parso                0.8.3\n",
      "passlib              1.7.4\n",
      "pickleshare          0.7.5\n",
      "pip                  23.3.1\n",
      "platformdirs         4.2.0\n",
      "prompt-toolkit       3.0.42\n",
      "psutil               5.9.0\n",
      "psycopg2-binary      2.9.9\n",
      "pure-eval            0.2.2\n",
      "pwdlib               0.2.0\n",
      "pyasn1               0.5.1\n",
      "pycparser            2.21\n",
      "pydantic             2.6.4\n",
      "pydantic_core        2.16.3\n",
      "Pygments             2.17.2\n",
      "PyJWT                2.8.0\n",
      "python-dateutil      2.9.0\n",
      "python-dotenv        1.0.1\n",
      "python-jose          3.3.0\n",
      "python-multipart     0.0.9\n",
      "pywin32              305.1\n",
      "pyzmq                25.1.2\n",
      "rsa                  4.9\n",
      "setuptools           68.2.2\n",
      "six                  1.16.0\n",
      "sniffio              1.3.1\n",
      "SQLAlchemy           2.0.28\n",
      "stack-data           0.6.2\n",
      "starlette            0.36.3\n",
      "tornado              6.3.3\n",
      "tqdm                 4.66.2\n",
      "traitlets            5.14.2\n",
      "typing_extensions    4.10.0\n",
      "uvicorn              0.29.0\n",
      "wcwidth              0.2.13\n",
      "wheel                0.41.2\n",
      "zipp                 3.17.0\n",
      "Note: you may need to restart the kernel to use updated packages.\n"
     ]
    }
   ],
   "source": [
    "%pip list"
   ]
  },
  {
   "cell_type": "markdown",
   "metadata": {},
   "source": [
    "## First basic OpenAI code"
   ]
  },
  {
   "cell_type": "code",
   "execution_count": 6,
   "metadata": {},
   "outputs": [],
   "source": [
    "from openai import OpenAI"
   ]
  },
  {
   "cell_type": "markdown",
   "metadata": {},
   "source": [
    "Gets the key from the environment\n",
    "Alternatively, can specify key using:"
   ]
  },
  {
   "cell_type": "code",
   "execution_count": 2,
   "metadata": {},
   "outputs": [],
   "source": [
    "\n",
    "# client = OpenAI(\n",
    "#     # This is the default and can be omitted\n",
    "#     api_key=\"\",\n",
    "# )\n"
   ]
  },
  {
   "cell_type": "markdown",
   "metadata": {},
   "source": [
    "#### Simple test call"
   ]
  },
  {
   "cell_type": "code",
   "execution_count": 7,
   "metadata": {},
   "outputs": [
    {
     "name": "stdout",
     "output_type": "stream",
     "text": [
      "ChatCompletionMessage(content=\"I can't provide real-time weather updates or predictions. For the most current weather information, please check a trustworthy weather service website, a weather app, or a news outlet.\", role='assistant', function_call=None, tool_calls=None)\n"
     ]
    }
   ],
   "source": [
    "\n",
    "client = OpenAI()\n",
    "\n",
    "aiModel = \"gpt-4-turbo-preview\"\n",
    "\n",
    "completion = client.chat.completions.create(\n",
    "  model=aiModel,\n",
    "  messages=[\n",
    "    {\"role\": \"system\", \"content\": \"You are a helpful assistant.\"},\n",
    "    {\"role\": \"user\", \"content\": \"What's the weather like?\"}\n",
    "  ]\n",
    ")\n",
    "\n",
    "print(completion.choices[0].message)\n"
   ]
  },
  {
   "cell_type": "markdown",
   "metadata": {},
   "source": [
    "For Async API Calls use await etc, rest is same"
   ]
  },
  {
   "cell_type": "markdown",
   "metadata": {},
   "source": [
    "### Calling API for feedback with parameters formatted into message"
   ]
  },
  {
   "cell_type": "markdown",
   "metadata": {},
   "source": [
    "#### Feedback prompt\n",
    "<details>\n",
    "<summary> System Prompt </summary>\n",
    "Jij bent een leraar op een middelbare school voor een klas met studenten van ``[age]`` jaar oud met een ``[background educational info]``. Jij geeft het vak ``[course]``. Jij bent een expert in het domein van ``[course]``. \n",
    "\n",
    "Jij hebt een opdracht gegeven aan je studenten en je zal nu hun inzendingen verbeteren.\n",
    "\n",
    "Hieronder zijn de originele instructies van de opdracht. De opdracht is afgebakend door `<start assignment>` en `<end assignment>`. Lees deze goed en begrijp ze:  \n",
    "`<start assignment>`  \n",
    "[assignment]  \n",
    "`<end assignment>`  \n",
    "\n",
    "\n",
    "Voor deze opdracht heb je toegang tot sjabloonoplossingen. De sjabloonoplossingen zijn telkens afgebakend door ``<start templatesolution>`` en ``<end templatesolution>``. De sjabloonoplossingen staan hieronder, lees deze goed en begrijp ze:  \n",
    "``<start templatesolution>``  \n",
    "[templatesolution]  \n",
    "``<end templatesolution>``  \n",
    "\n",
    "``<start templatesolution>``  \n",
    "[templatesolution]  \n",
    "``<end templatesolution>``  \n",
    "\n",
    "``<start templatesolution>``  \n",
    "[templatesolution]  \n",
    "``<end templatesolution>``  \n",
    "\n",
    "Gebruik deze sjabloonoplossingen om de inzending van de leerling te beoordelen door hun inzending te vergelijken met alle sjabloonoplossingen en feedback te geven die relevant is voor de oorspronkelijke opdracht. \n",
    "\n",
    "De student heeft geen toegang tot de sjabloonoplossingen en mag niet van het bestaan ervan op de hoogte zijn. Houd ze geheim en vermeld ze niet. \n",
    "\n",
    "Hieronder is de inzending van de student zijn werk. Lees deze goed en begrijp ze. Geef daarna feedback aan de student. De inzending is afgebakend door ``<start submission>`` en ``<end submissionn>``.\n",
    "\n",
    "Houd de feedback die jij geeft kort. De student gebruikt de feedback om zijn eigen inzending te verbeteren en dient deze hier later opnieuw in. Maak niet zelf de opdracht voor de leerlingen. Houd de feedback eenvoudig en geef alleen hints. Voeg geen eigen voorbeelden toe aan je feedback of zinnen als \"zoals...\", de leerling moet zelf voorbeelden bedenken. \n",
    "\n",
    "Dit zal een leermoment zijn voor de student. Het doel is dat de student beter wordt in het vak [course].\n",
    "</details>\n",
    "\n",
    "<details>\n",
    "<summary> User Prompt </summary>\n",
    "Dit is de 1ste inzending van de student:\n",
    "\n",
    "``<start submission>``  \n",
    "[submission]  \n",
    "``<end submissionn>``\n",
    "\n",
    "</details>\n"
   ]
  },
  {
   "cell_type": "markdown",
   "metadata": {},
   "source": [
    "Parameters needed are:\n",
    "- age\n",
    "- background educational info\n",
    "- course\n",
    "- assignment\n",
    "- templatesolutions (list)\n",
    "- submission"
   ]
  },
  {
   "cell_type": "markdown",
   "metadata": {},
   "source": [
    "Use string Templates to substitute values in the messages"
   ]
  },
  {
   "cell_type": "markdown",
   "metadata": {},
   "source": [
    "### Workflow: Hoe maak ik een system message?\n",
    "* heb de parameters, geef die aan create system message\n",
    "* die gaat intro template maken, en subtituten\n",
    "* dan maak ik template solutions gedeelte, en substituten\n",
    "* dan maak ik 3de outro template gedeelte, en substiten\n",
    "* dan vul concat ik alles"
   ]
  },
  {
   "cell_type": "code",
   "execution_count": 8,
   "metadata": {},
   "outputs": [],
   "source": [
    "import string\n",
    "import textwrap"
   ]
  },
  {
   "cell_type": "code",
   "execution_count": 9,
   "metadata": {},
   "outputs": [],
   "source": [
    "\n",
    "age = 12\n",
    "background_educational_info = \"redelijke wetenschappelijke opleiding\"\n",
    "course = \"nederlands\""
   ]
  },
  {
   "cell_type": "code",
   "execution_count": 10,
   "metadata": {},
   "outputs": [],
   "source": [
    "assignment = \"\"\"**Opdracht 3: Vergelijkend Essay**\n",
    "\n",
    "**Doel:** Het doel van deze opdracht is om je analytische vaardigheden te ontwikkelen door het vergelijken van twee literaire werken en het identificeren van overeenkomsten en verschillen in thema's, personages en plotontwikkeling.\n",
    "\n",
    "**Taken:**\n",
    "1. Kies één werk van \"Van den vos Reynaerde\" en kies één ander middeleeuws werk of een modern werk met vergelijkbare thema's als \"Van den vos Reynaerde\".\n",
    "2. Lees beide werken grondig en maak aantekeningen over thema's, personages, plotontwikkeling, literaire stijl en andere relevante aspecten.\n",
    "3. Schrijf een essay waarin je de twee werken vergelijkt. Zorg ervoor dat je:\n",
    "- Een inleiding schrijft waarin je de werken kort introduceert en je vergelijkingsdoel uitlegt.\n",
    "- Thema's bespreekt die in beide werken voorkomen en hoe ze worden behandeld.\n",
    "- Personages vergelijkt en contrasten benadrukt in hun ontwikkeling, motivaties en interacties.\n",
    "- Plotontwikkeling analyseert, inclusief belangrijke gebeurtenissen, climax en afloop.\n",
    "- De literaire stijl van beide werken bespreekt, inclusief taalgebruik, verteltechnieken en symboliek.\n",
    "- Tot een conclusie komt waarin je de belangrijkste bevindingen samenvat en je persoonlijke mening geeft over de waarde en impact van beide werken.\n",
    "\n",
    "**Richtlijnen:**\n",
    "- Vermeld duidelijk de titels en auteurs van beide werken die je hebt gekozen. Voor één van de gevallen \"Van den vos Reynaerde\" door Willem die Madocke maakte.\n",
    "- Je essay moet minimaal 100 woorden bevatten.\n",
    "- Gebruik specifieke voorbeelden en citaten uit beide werken om je analyse te ondersteunen.\n",
    "- Houd rekening met de context en tijdperk waarin elk werk is geschreven.\n",
    "- Wees kritisch en diepgaand in je analyse, vermijd oppervlakkige vergelijkingen.\n",
    "- Zorg voor een duidelijke structuur met een inleiding, meerdere body paragraphs en een conclusie.\n",
    "- Gebruik academische bronnen indien nodig om je argumenten te ondersteunen.\n",
    "\n",
    "**Inleveren:**\n",
    "- Zorg ervoor dat je je essay in een duidelijk en leesbaar formaat indient, bij voorkeur digitaal.\n",
    "\n",
    "**Beoordeling:**\n",
    "Je essay zal worden beoordeeld op de diepte van je analyse, de helderheid van je argumenten, de nauwkeurigheid van je interpretaties, en de algemene structuur en stijl van je schrijven. Creativiteit, originaliteit en het vermogen om kritisch te denken zullen ook worden gewaardeerd.\n",
    "\n",
    "Deze opdracht biedt leerlingen de kans om hun analytische en schrijfvaardigheden te ontwikkelen door middel van een diepgaande vergelijkende analyse van literaire werken. Het is van belang dat de richtlijnen duidelijk zijn en dat de opdracht voldoende uitdaging biedt om de leerlingen te stimuleren tot een grondige analyse en reflectie.\"\"\""
   ]
  },
  {
   "cell_type": "code",
   "execution_count": 11,
   "metadata": {},
   "outputs": [],
   "source": [
    "template_solutions = [\n",
    "\"\"\"**Sjabloonoplossing 1: Vergelijkend Essay tussen \"Van den vos Reynaerde\" en \"Animal Farm\" door George Orwell**\n",
    "\n",
    "**Inleiding**\n",
    "In dit essay vergelijken we twee opmerkelijke literaire werken: \"Van den vos Reynaerde\" door Willem die Madocke maakte, en \"Animal Farm\" door George Orwell. Beide werken duiken in de complexe wereld van machtsstrijd en corruptie, maar elk doet dit op zijn unieke manier, gebruikmakend van dieren om menselijke ondeugden en politieke kritiek uit te beelden.\n",
    "\n",
    "**Vergelijking van Thema's**\n",
    "Beide \"Van den vos Reynaerde\" en \"Animal Farm\" draaien om thema's als corruptie, machtsmisbruik, en de strijd tegen onderdrukking. In \"Van den vos Reynaerde\" gebruikt Reynaert sluwheid en bedrog om uit handen van het gerecht te blijven, waardoor thema's als listigheid en rechtvaardigheid aan bod komen. \"Animal Farm\" brengt deze thema's naar een ander niveau door te laten zien hoe macht corrodeert en leidt tot tirannie, een weerspiegeling van de Stalinistische Sovjet-Unie.\n",
    "\n",
    "**Personages Vergelijken**\n",
    "Reynaert, de slinkse vos uit \"Van den vos Reynaerde\", en Napoleon, de autoritaire leider in \"Animal Farm\", geven elk hun eigen draai aan hoe macht kan worden misbruikt. Reynaert, hoewel vaak gezien als de schurk, speelt slim in op de zwakheden van anderen, terwijl Napoleon brute kracht en intimidatie gebruikt om zijn doelen te bereiken. Deze personages belichamen het concept van macht en manipulatie, hoewel Reynaert meer sluwheid vertoont en Napoleon een meer fysieke en autoritaire macht uitoefent.\n",
    "\n",
    "**Plotontwikkeling Analyse**\n",
    "De plotontwikkeling in beide boeken draait om de evolutie van macht en de consequenties van corruptie. \"Van den vos Reynaerde\" ontvouwt zich door de verschillende pogingen van Reynaert om gerechtigheid (door bedrog) te ontlopen, wat culmineert in zijn tijdelijke triomf. \"Animal Farm\", aan de andere kant, volgt de transformatie van een utopie tot een dystopie, waarbij de dieren ontdekken dat hun nieuwe heersers net zo corrupt zijn als degenen die ze hebben omvergeworpen. Beide verhalen eindigen met een reflectie op de cyclische aard van macht en corruptie.\n",
    "\n",
    "**Literaire Stijl**\n",
    "De literaire stijl van \"Van den vos Reynaerde\" kenmerkt zich door zijn satirische tonen, belichaamd in de antropomorfische dieren en hun interacties, wat voor humor zorgt zelfs als het donkere thema's verkent. \"Animal Farm\" deelt deze satirische en allegorische kwaliteiten, maar met een meer directe politieke boodschap. Beide werken maken gebruik van dieren als symbolen voor menselijk gedrag en sociale kritiek, maar doen dit op een manier die zowel vermakelijk als tot nadenken stemmend is.\n",
    "\n",
    "**Conclusie**\n",
    "\"Van den vos Reynaerde\" en \"Animal Farm\" zijn beide diepgaande kritieken op de menselijke natuur en politieke systemen, gebruikmakend van dieren om tijdloze thema's zoals corruptie, macht, en rechtvaardigheid te onderzoeken. Hoewel ze uit verschillende tijdperken komen en verschillende maatschappelijke kritieken aanvoeren, tonen beide werken de aantrekkingskracht en gevaren van macht, en hoe deze onvermijdelijk leidt tot corruptie en tirannie. De tijdloze waarde van beide werken benadrukt de noodzaak om waakzaam te blijven tegen machtsmisbruik en voor de eeuwige strijd voor rechtvaardigheid en gelijkheid.\"\"\", \n",
    "\n",
    "\"\"\"**Sjabloonoplossing 2: Vergelijkend Essay tussen \"Van den vos Reynaerde\" en \"De Bende van Jan de Lichte\" door Louis Paul Boon**\n",
    "\n",
    "**Inleiding**\n",
    "In dit essay richten we onze vergelijkende lens op \"Van den vos Reynaerde,\" een middeleeuwse dierenfabel over avonturen en intriges, en \"De Bende van Jan de Lichte,\" een historische roman door Louis Paul Boon die verhaalt over de lotgevallen van een 18e-eeuwse struikrover en zijn bende in Vlaanderen. Hoewel de werken uit verschillende tijdperken stammen, bevatten ze allebei scherpe maatschappelijke kritieken verpakt in hun verhalen.\n",
    "\n",
    "**Vergelijking van Thema's**\n",
    "Het centrale thema in beide boeken is onrecht en sociale ongelijkheid. \"Van den vos Reynaerde\" gebruikt dierlijke personages om de hypocrisie en corruptie binnen de middeleeuwse rechtssystemen aan de kaak te stellen, terwijl \"De Bende van Jan de Lichte\" de armoede, uitbuiting en het onvermogen van het gerechtelijk systeem in de 18e eeuw onderzoekt. Beide werken tonen een cynische kijk op de maatschappij en de machthebbers.\n",
    "\n",
    "**Personages Vergelijken**\n",
    "Hoewel Reynaert de vos en Jan de Lichte uit geheel andere werelden komen, delen ze een gemeenschappelijke sluwheid en een rebels karakter. Reynaert manipuleert iedereen om zich heen met zijn scherpe tong en intelligentie, terwijl Jan de Lichte het opneemt tegen de gevestigde orde met zijn moed en slimme plannen. Hun tegenspelers, vaak vertegenwoordigers van het gezag, worden in beide boeken geportretteerd als incompetent of corrupt, wat bijdraagt aan het gevoel van onrecht dat door de verhalen heen loopt.\n",
    "\n",
    "**Plotontwikkeling Analyse**\n",
    "\"Van den vos Reynaerde\" en \"De Bende van Jan de Lichte\" ontvouwen beide een narratief van vervolging en strijd tegen een corrupt systeem. Reynaert's strijd om te overleven tegen de krachten die hem willen bestraffen, echoot in de guerrillaoorlog van Jan de Lichte tegen de maatschappelijke structuren die hem en zijn bendeleden onderdrukken. Beide plotlijnen bouwen op naar een climax die de personages niet alleen fysiek, maar ook moreel uitdaagt, waarbij vragen over rechtvaardigheid en moraliteit naar voren komen.\n",
    "\n",
    "**Literaire Stijl**\n",
    "De stijl van Willem die Madocke maakte in \"Van den vos Reynaerde\" is beeldend en vol humor, waarmee hij de ernst van de kritieken verhult onder een laag van vermakelijke dierenfabels. Louis Paul Boon biedt in \"De Bende van Jan de Lichte\" een ruwer, directer realisme, met een focus op de donkere kanten van het menselijk bestaan. Beide auteurs gebruiken hun literaire technieken om kritiek te leveren op sociale ongelijkheid en machtsmisbruik, maar doen dit op merkbaar verschillende wijzen.\n",
    "\n",
    "**Conclusie**\n",
    "Hoewel \"Van den vos Reynaerde\" en \"De Bende van Jan de Lichte\" uit verschillende perioden stammen en verschillende genres vertegenwoordigen, delen ze een kritische blik op de maatschappij en de machtsverhoudingen binnen. Beide werken stellen vragen over rechtvaardigheid, macht en corruptie, en leveren zo kritiek op de maatschappelijke orde van hun tijd. Deze tijdloze thema's benadrukken de continue relevantie van beide werken in de discussie over sociale rechtvaardigheid en het menselijk gedrag.\"\"\", \n",
    "\n",
    "\"\"\"**Sjabloonoplossing 3: Vergelijkend Essay tussen \"Van den vos Reynaerde\" en \"Het gouden ei\" van Tim Krabbé**\n",
    "\n",
    "**Inleiding**\n",
    "Dit essay biedt een vergelijkend onderzoek tussen \"Van den vos Reynaerde,\" een klassiek werk uit de Middelnederlandse literatuur dat de schalkse avonturen van een vos belicht, en \"Het gouden ei\" van Tim Krabbé, een moderne psychologische thriller. Ondanks de afwijkende genres en historische context, belichten beide werken thema's van bedrog, rechtvaardigheid en de donkere kant van het menselijk (of dierlijk) streven.\n",
    "\n",
    "**Vergelijking van Thema's**\n",
    "In beide werken is de sluwe manipulatie en het bedrog een centraal thema. \"Van den vos Reynaerde\" gebruikt deze thematiek om de corruptie binnen het justitiële systeem en de maatschappij bloot te leggen, terwijl \"Het gouden ei\" de obsessieve speurtocht naar de waarheid en de duistere gevolgen van obsessie en bedrog verkent. Beide verhalen stellen de vraag naar wat rechtvaardigheid echt betekent.\n",
    "\n",
    "**Personages Vergelijken**\n",
    "Reynaert en Raymond Lemorne, de antagonist in \"Het gouden ei,\" vertegenwoordigen twee gezichten van kwaadaardigheid en sluwheid. Hoewel Reynaert met zijn listen en lagen enige sympathie kan wekken door zijn vindingrijkheid, is Raymond koud en berekenend, met een duisternis die diep geworteld is in zijn psyche. De complexiteit van deze karakters dwingt de lezer om te reflecteren op de vraag van moraliteit en of het doel de middelen heiligt.\n",
    "\n",
    "**Plotontwikkeling Analyse**\n",
    "De verhaallijnen van beide boeken zijn opvallend verschillend in constructie maar vergelijkbaar in de kern van manipulatie en het ontrafelen van een 'mysterie'. In \"Van den vos Reynaerde\" worden de verschillende lagen van bedrog en politieke intrige ontvouwd in een middeleeuwse setting, terwijl \"Het gouden ei\" de diepe emotionele impact en psychologische diepten van zijn personages door een moderne thrillerlaag verkent. Beide verhalen houden de lezer in spanning met onverwachte plotwendingen.\n",
    "\n",
    "**Literaire Stijl**\n",
    "De literaire stijl van beide werken draagt bij aan hun thematische diepgang. De middeleeuwse tekst van \"Van den vos Reynaerde\" biedt een satirische, soms bijna speelse benadering van serieuze maatschappelijke vraagstukken, terwijl \"Het gouden ei\" zich kenmerkt door strak, beknopt proza dat spanning en onbehagen oproept. Deze stijlkeuzes versterken de manier waarop elk verhaal zijn thema’s exploreert en presenteren een rijk spectrum aan technieken voor het overbrengen van spanning en morele dilemma’s.\n",
    "\n",
    "**Conclusie**\n",
    "\"Van den vos Reynaerde\" en \"Het gouden ei\" bieden beide een intrigerende blik op thema's als bedrog, rechtvaardigheid en de aard van kwaad, alhoewel door compleet verschillende lenzen. Wat deze werken verbindt, is hun vermogen om de lezer te laten reflecteren op de complexiteit van morele vraagstukken en de duistere kanten van menselijk gedrag, ongeacht de tijd of setting. Deze tijdloze thema’s resoneren ook vandaag de dag nog en verklaren de blijvende impact en relevantie van beide werken binnen hun literaire tradities.\"\"\"\n",
    "]"
   ]
  },
  {
   "cell_type": "code",
   "execution_count": 12,
   "metadata": {},
   "outputs": [],
   "source": [
    "submission = \"Blabla ik ga deze opdracht niet doen, wat een stom vak!!!!\""
   ]
  },
  {
   "cell_type": "markdown",
   "metadata": {},
   "source": [
    "#### Indents niet veranderen voor multiline strings, anders output die tabs voor elke lijn... \n"
   ]
  },
  {
   "cell_type": "code",
   "execution_count": 13,
   "metadata": {},
   "outputs": [],
   "source": [
    "def create_system_message_intro(age: int, background_educational_info: string, course: string, assignment: string) -> string:\n",
    "    intro = string.Template(\"\"\"Jij bent een leraar op een middelbare school voor een klas met studenten van ${age} jaar oud met een ${background_educational_info}. Jij geeft het vak ${course}. Jij bent een expert in het domein van ${course}.\n",
    "\n",
    "Jij hebt een opdracht gegeven aan je studenten en je zal nu hun inzendingen verbeteren.\n",
    "\n",
    "Hieronder zijn de originele instructies van de opdracht. De opdracht is afgebakend door <start assignment> en <end assignment>. Lees deze goed en begrijp ze:\n",
    "\n",
    "<start assignment>\n",
    "${assignment}\n",
    "<end assignment>\n",
    "\n",
    "\n",
    "Voor deze opdracht heb je toegang tot sjabloonoplossingen. De sjabloonoplossingen zijn telkens afgebakend door <start templatesolution> en <end templatesolution>. De sjabloonoplossingen staan hieronder, lees deze goed en begrijp ze:\n",
    "\"\"\")\n",
    "    \n",
    "    intro = intro.substitute(age=age, background_educational_info=background_educational_info, course=course, assignment=assignment)\n",
    "\n",
    "    return textwrap.dedent(intro)"
   ]
  },
  {
   "cell_type": "code",
   "execution_count": 14,
   "metadata": {},
   "outputs": [],
   "source": [
    "def create_system_message_templates(template_solutions: list) -> string:\n",
    "  templates = \"\"\n",
    "\n",
    "  for solution in template_solutions:\n",
    "    template = string.Template(\"\"\"<start templatesolution>\n",
    "${solution}\n",
    "<end templatesolution>\n",
    "\n",
    "\"\"\")\n",
    "      \n",
    "    templates += template.substitute(solution=solution);\n",
    "  \n",
    "  return textwrap.dedent(templates)"
   ]
  },
  {
   "cell_type": "code",
   "execution_count": 17,
   "metadata": {},
   "outputs": [],
   "source": [
    "def create_system_message_outro(course: string) -> string:\n",
    "  outro = string.Template(\"\"\"Gebruik deze sjabloonoplossingen om de inzending van de leerling te beoordelen door hun inzending te vergelijken met alle sjabloonoplossingen en feedback te geven die relevant is voor de oorspronkelijke opdracht. \n",
    "\n",
    "De student heeft geen toegang tot de sjabloonoplossingen en mag niet van het bestaan ervan op de hoogte zijn. Houd ze geheim en vermeld ze niet. \n",
    "\n",
    "Hieronder is de inzending van de student zijn werk. Lees deze goed en begrijp ze. Geef daarna feedback aan de student. De inzending is afgebakend door <start submission> en <end submissionn>.\n",
    "\n",
    "Houd de feedback die jij geeft kort. De student gebruikt de feedback om zijn eigen inzending te verbeteren en dient deze hier later opnieuw in. Maak niet zelf de opdracht voor de leerlingen. Houd de feedback eenvoudig en geef alleen hints. Voeg geen eigen voorbeelden toe aan je feedback of zinnen als \"zoals...\", de leerling moet zelf voorbeelden bedenken.\n",
    "\n",
    "Dit zal een leermoment zijn voor de student. Het doel is dat de student beter wordt in het vak ${course}.\"\"\")\n",
    "\n",
    "  return textwrap.dedent(outro.substitute(course=course))"
   ]
  },
  {
   "cell_type": "code",
   "execution_count": 19,
   "metadata": {},
   "outputs": [
    {
     "name": "stdout",
     "output_type": "stream",
     "text": [
      "Jij bent een leraar op een middelbare school voor een klas met studenten van 12 jaar oud met een redelijke wetenschappelijke opleiding. Jij geeft het vak nederlands. Jij bent een expert in het domein van nederlands.\n",
      "\n",
      "Jij hebt een opdracht gegeven aan je studenten en je zal nu hun inzendingen verbeteren.\n",
      "\n",
      "Hieronder zijn de originele instructies van de opdracht. De opdracht is afgebakend door <start assignment> en <end assignment>. Lees deze goed en begrijp ze:\n",
      "\n",
      "<start assignment>\n",
      "**Opdracht 3: Vergelijkend Essay**\n",
      "\n",
      "**Doel:** Het doel van deze opdracht is om je analytische vaardigheden te ontwikkelen door het vergelijken van twee literaire werken en het identificeren van overeenkomsten en verschillen in thema's, personages en plotontwikkeling.\n",
      "\n",
      "**Taken:**\n",
      "1. Kies één werk van \"Van den vos Reynaerde\" en kies één ander middeleeuws werk of een modern werk met vergelijkbare thema's als \"Van den vos Reynaerde\".\n",
      "2. Lees beide werken grondig en maak aantekeningen over thema's, personages, plotontwikkeling, literaire stijl en andere relevante aspecten.\n",
      "3. Schrijf een essay waarin je de twee werken vergelijkt. Zorg ervoor dat je:\n",
      "- Een inleiding schrijft waarin je de werken kort introduceert en je vergelijkingsdoel uitlegt.\n",
      "- Thema's bespreekt die in beide werken voorkomen en hoe ze worden behandeld.\n",
      "- Personages vergelijkt en contrasten benadrukt in hun ontwikkeling, motivaties en interacties.\n",
      "- Plotontwikkeling analyseert, inclusief belangrijke gebeurtenissen, climax en afloop.\n",
      "- De literaire stijl van beide werken bespreekt, inclusief taalgebruik, verteltechnieken en symboliek.\n",
      "- Tot een conclusie komt waarin je de belangrijkste bevindingen samenvat en je persoonlijke mening geeft over de waarde en impact van beide werken.\n",
      "\n",
      "**Richtlijnen:**\n",
      "- Vermeld duidelijk de titels en auteurs van beide werken die je hebt gekozen. Voor één van de gevallen \"Van den vos Reynaerde\" door Willem die Madocke maakte.\n",
      "- Je essay moet minimaal 100 woorden bevatten.\n",
      "- Gebruik specifieke voorbeelden en citaten uit beide werken om je analyse te ondersteunen.\n",
      "- Houd rekening met de context en tijdperk waarin elk werk is geschreven.\n",
      "- Wees kritisch en diepgaand in je analyse, vermijd oppervlakkige vergelijkingen.\n",
      "- Zorg voor een duidelijke structuur met een inleiding, meerdere body paragraphs en een conclusie.\n",
      "- Gebruik academische bronnen indien nodig om je argumenten te ondersteunen.\n",
      "\n",
      "**Inleveren:**\n",
      "- Zorg ervoor dat je je essay in een duidelijk en leesbaar formaat indient, bij voorkeur digitaal.\n",
      "\n",
      "**Beoordeling:**\n",
      "Je essay zal worden beoordeeld op de diepte van je analyse, de helderheid van je argumenten, de nauwkeurigheid van je interpretaties, en de algemene structuur en stijl van je schrijven. Creativiteit, originaliteit en het vermogen om kritisch te denken zullen ook worden gewaardeerd.\n",
      "\n",
      "Deze opdracht biedt leerlingen de kans om hun analytische en schrijfvaardigheden te ontwikkelen door middel van een diepgaande vergelijkende analyse van literaire werken. Het is van belang dat de richtlijnen duidelijk zijn en dat de opdracht voldoende uitdaging biedt om de leerlingen te stimuleren tot een grondige analyse en reflectie.\n",
      "<end assignment>\n",
      "\n",
      "\n",
      "Voor deze opdracht heb je toegang tot sjabloonoplossingen. De sjabloonoplossingen zijn telkens afgebakend door <start templatesolution> en <end templatesolution>. De sjabloonoplossingen staan hieronder, lees deze goed en begrijp ze:\n",
      "<start templatesolution>\n",
      "**Sjabloonoplossing 1: Vergelijkend Essay tussen \"Van den vos Reynaerde\" en \"Animal Farm\" door George Orwell**\n",
      "\n",
      "**Inleiding**\n",
      "In dit essay vergelijken we twee opmerkelijke literaire werken: \"Van den vos Reynaerde\" door Willem die Madocke maakte, en \"Animal Farm\" door George Orwell. Beide werken duiken in de complexe wereld van machtsstrijd en corruptie, maar elk doet dit op zijn unieke manier, gebruikmakend van dieren om menselijke ondeugden en politieke kritiek uit te beelden.\n",
      "\n",
      "**Vergelijking van Thema's**\n",
      "Beide \"Van den vos Reynaerde\" en \"Animal Farm\" draaien om thema's als corruptie, machtsmisbruik, en de strijd tegen onderdrukking. In \"Van den vos Reynaerde\" gebruikt Reynaert sluwheid en bedrog om uit handen van het gerecht te blijven, waardoor thema's als listigheid en rechtvaardigheid aan bod komen. \"Animal Farm\" brengt deze thema's naar een ander niveau door te laten zien hoe macht corrodeert en leidt tot tirannie, een weerspiegeling van de Stalinistische Sovjet-Unie.\n",
      "\n",
      "**Personages Vergelijken**\n",
      "Reynaert, de slinkse vos uit \"Van den vos Reynaerde\", en Napoleon, de autoritaire leider in \"Animal Farm\", geven elk hun eigen draai aan hoe macht kan worden misbruikt. Reynaert, hoewel vaak gezien als de schurk, speelt slim in op de zwakheden van anderen, terwijl Napoleon brute kracht en intimidatie gebruikt om zijn doelen te bereiken. Deze personages belichamen het concept van macht en manipulatie, hoewel Reynaert meer sluwheid vertoont en Napoleon een meer fysieke en autoritaire macht uitoefent.\n",
      "\n",
      "**Plotontwikkeling Analyse**\n",
      "De plotontwikkeling in beide boeken draait om de evolutie van macht en de consequenties van corruptie. \"Van den vos Reynaerde\" ontvouwt zich door de verschillende pogingen van Reynaert om gerechtigheid (door bedrog) te ontlopen, wat culmineert in zijn tijdelijke triomf. \"Animal Farm\", aan de andere kant, volgt de transformatie van een utopie tot een dystopie, waarbij de dieren ontdekken dat hun nieuwe heersers net zo corrupt zijn als degenen die ze hebben omvergeworpen. Beide verhalen eindigen met een reflectie op de cyclische aard van macht en corruptie.\n",
      "\n",
      "**Literaire Stijl**\n",
      "De literaire stijl van \"Van den vos Reynaerde\" kenmerkt zich door zijn satirische tonen, belichaamd in de antropomorfische dieren en hun interacties, wat voor humor zorgt zelfs als het donkere thema's verkent. \"Animal Farm\" deelt deze satirische en allegorische kwaliteiten, maar met een meer directe politieke boodschap. Beide werken maken gebruik van dieren als symbolen voor menselijk gedrag en sociale kritiek, maar doen dit op een manier die zowel vermakelijk als tot nadenken stemmend is.\n",
      "\n",
      "**Conclusie**\n",
      "\"Van den vos Reynaerde\" en \"Animal Farm\" zijn beide diepgaande kritieken op de menselijke natuur en politieke systemen, gebruikmakend van dieren om tijdloze thema's zoals corruptie, macht, en rechtvaardigheid te onderzoeken. Hoewel ze uit verschillende tijdperken komen en verschillende maatschappelijke kritieken aanvoeren, tonen beide werken de aantrekkingskracht en gevaren van macht, en hoe deze onvermijdelijk leidt tot corruptie en tirannie. De tijdloze waarde van beide werken benadrukt de noodzaak om waakzaam te blijven tegen machtsmisbruik en voor de eeuwige strijd voor rechtvaardigheid en gelijkheid.\n",
      "<end templatesolution>\n",
      "\n",
      "<start templatesolution>\n",
      "**Sjabloonoplossing 2: Vergelijkend Essay tussen \"Van den vos Reynaerde\" en \"De Bende van Jan de Lichte\" door Louis Paul Boon**\n",
      "\n",
      "**Inleiding**\n",
      "In dit essay richten we onze vergelijkende lens op \"Van den vos Reynaerde,\" een middeleeuwse dierenfabel over avonturen en intriges, en \"De Bende van Jan de Lichte,\" een historische roman door Louis Paul Boon die verhaalt over de lotgevallen van een 18e-eeuwse struikrover en zijn bende in Vlaanderen. Hoewel de werken uit verschillende tijdperken stammen, bevatten ze allebei scherpe maatschappelijke kritieken verpakt in hun verhalen.\n",
      "\n",
      "**Vergelijking van Thema's**\n",
      "Het centrale thema in beide boeken is onrecht en sociale ongelijkheid. \"Van den vos Reynaerde\" gebruikt dierlijke personages om de hypocrisie en corruptie binnen de middeleeuwse rechtssystemen aan de kaak te stellen, terwijl \"De Bende van Jan de Lichte\" de armoede, uitbuiting en het onvermogen van het gerechtelijk systeem in de 18e eeuw onderzoekt. Beide werken tonen een cynische kijk op de maatschappij en de machthebbers.\n",
      "\n",
      "**Personages Vergelijken**\n",
      "Hoewel Reynaert de vos en Jan de Lichte uit geheel andere werelden komen, delen ze een gemeenschappelijke sluwheid en een rebels karakter. Reynaert manipuleert iedereen om zich heen met zijn scherpe tong en intelligentie, terwijl Jan de Lichte het opneemt tegen de gevestigde orde met zijn moed en slimme plannen. Hun tegenspelers, vaak vertegenwoordigers van het gezag, worden in beide boeken geportretteerd als incompetent of corrupt, wat bijdraagt aan het gevoel van onrecht dat door de verhalen heen loopt.\n",
      "\n",
      "**Plotontwikkeling Analyse**\n",
      "\"Van den vos Reynaerde\" en \"De Bende van Jan de Lichte\" ontvouwen beide een narratief van vervolging en strijd tegen een corrupt systeem. Reynaert's strijd om te overleven tegen de krachten die hem willen bestraffen, echoot in de guerrillaoorlog van Jan de Lichte tegen de maatschappelijke structuren die hem en zijn bendeleden onderdrukken. Beide plotlijnen bouwen op naar een climax die de personages niet alleen fysiek, maar ook moreel uitdaagt, waarbij vragen over rechtvaardigheid en moraliteit naar voren komen.\n",
      "\n",
      "**Literaire Stijl**\n",
      "De stijl van Willem die Madocke maakte in \"Van den vos Reynaerde\" is beeldend en vol humor, waarmee hij de ernst van de kritieken verhult onder een laag van vermakelijke dierenfabels. Louis Paul Boon biedt in \"De Bende van Jan de Lichte\" een ruwer, directer realisme, met een focus op de donkere kanten van het menselijk bestaan. Beide auteurs gebruiken hun literaire technieken om kritiek te leveren op sociale ongelijkheid en machtsmisbruik, maar doen dit op merkbaar verschillende wijzen.\n",
      "\n",
      "**Conclusie**\n",
      "Hoewel \"Van den vos Reynaerde\" en \"De Bende van Jan de Lichte\" uit verschillende perioden stammen en verschillende genres vertegenwoordigen, delen ze een kritische blik op de maatschappij en de machtsverhoudingen binnen. Beide werken stellen vragen over rechtvaardigheid, macht en corruptie, en leveren zo kritiek op de maatschappelijke orde van hun tijd. Deze tijdloze thema's benadrukken de continue relevantie van beide werken in de discussie over sociale rechtvaardigheid en het menselijk gedrag.\n",
      "<end templatesolution>\n",
      "\n",
      "<start templatesolution>\n",
      "**Sjabloonoplossing 3: Vergelijkend Essay tussen \"Van den vos Reynaerde\" en \"Het gouden ei\" van Tim Krabbé**\n",
      "\n",
      "**Inleiding**\n",
      "Dit essay biedt een vergelijkend onderzoek tussen \"Van den vos Reynaerde,\" een klassiek werk uit de Middelnederlandse literatuur dat de schalkse avonturen van een vos belicht, en \"Het gouden ei\" van Tim Krabbé, een moderne psychologische thriller. Ondanks de afwijkende genres en historische context, belichten beide werken thema's van bedrog, rechtvaardigheid en de donkere kant van het menselijk (of dierlijk) streven.\n",
      "\n",
      "**Vergelijking van Thema's**\n",
      "In beide werken is de sluwe manipulatie en het bedrog een centraal thema. \"Van den vos Reynaerde\" gebruikt deze thematiek om de corruptie binnen het justitiële systeem en de maatschappij bloot te leggen, terwijl \"Het gouden ei\" de obsessieve speurtocht naar de waarheid en de duistere gevolgen van obsessie en bedrog verkent. Beide verhalen stellen de vraag naar wat rechtvaardigheid echt betekent.\n",
      "\n",
      "**Personages Vergelijken**\n",
      "Reynaert en Raymond Lemorne, de antagonist in \"Het gouden ei,\" vertegenwoordigen twee gezichten van kwaadaardigheid en sluwheid. Hoewel Reynaert met zijn listen en lagen enige sympathie kan wekken door zijn vindingrijkheid, is Raymond koud en berekenend, met een duisternis die diep geworteld is in zijn psyche. De complexiteit van deze karakters dwingt de lezer om te reflecteren op de vraag van moraliteit en of het doel de middelen heiligt.\n",
      "\n",
      "**Plotontwikkeling Analyse**\n",
      "De verhaallijnen van beide boeken zijn opvallend verschillend in constructie maar vergelijkbaar in de kern van manipulatie en het ontrafelen van een 'mysterie'. In \"Van den vos Reynaerde\" worden de verschillende lagen van bedrog en politieke intrige ontvouwd in een middeleeuwse setting, terwijl \"Het gouden ei\" de diepe emotionele impact en psychologische diepten van zijn personages door een moderne thrillerlaag verkent. Beide verhalen houden de lezer in spanning met onverwachte plotwendingen.\n",
      "\n",
      "**Literaire Stijl**\n",
      "De literaire stijl van beide werken draagt bij aan hun thematische diepgang. De middeleeuwse tekst van \"Van den vos Reynaerde\" biedt een satirische, soms bijna speelse benadering van serieuze maatschappelijke vraagstukken, terwijl \"Het gouden ei\" zich kenmerkt door strak, beknopt proza dat spanning en onbehagen oproept. Deze stijlkeuzes versterken de manier waarop elk verhaal zijn thema’s exploreert en presenteren een rijk spectrum aan technieken voor het overbrengen van spanning en morele dilemma’s.\n",
      "\n",
      "**Conclusie**\n",
      "\"Van den vos Reynaerde\" en \"Het gouden ei\" bieden beide een intrigerende blik op thema's als bedrog, rechtvaardigheid en de aard van kwaad, alhoewel door compleet verschillende lenzen. Wat deze werken verbindt, is hun vermogen om de lezer te laten reflecteren op de complexiteit van morele vraagstukken en de duistere kanten van menselijk gedrag, ongeacht de tijd of setting. Deze tijdloze thema’s resoneren ook vandaag de dag nog en verklaren de blijvende impact en relevantie van beide werken binnen hun literaire tradities.\n",
      "<end templatesolution>\n",
      "\n",
      "Gebruik deze sjabloonoplossingen om de inzending van de leerling te beoordelen door hun inzending te vergelijken met alle sjabloonoplossingen en feedback te geven die relevant is voor de oorspronkelijke opdracht. \n",
      "\n",
      "De student heeft geen toegang tot de sjabloonoplossingen en mag niet van het bestaan ervan op de hoogte zijn. Houd ze geheim en vermeld ze niet. \n",
      "\n",
      "Hieronder is de inzending van de student zijn werk. Lees deze goed en begrijp ze. Geef daarna feedback aan de student. De inzending is afgebakend door <start submission> en <end submissionn>.\n",
      "\n",
      "Houd de feedback die jij geeft kort. De student gebruikt de feedback om zijn eigen inzending te verbeteren en dient deze hier later opnieuw in. Maak niet zelf de opdracht voor de leerlingen. Houd de feedback eenvoudig en geef alleen hints. Voeg geen eigen voorbeelden toe aan je feedback of zinnen als \"zoals...\", de leerling moet zelf voorbeelden bedenken.\n",
      "\n",
      "Dit zal een leermoment zijn voor de student. Het doel is dat de student beter wordt in het vak nederlands.\n"
     ]
    }
   ],
   "source": [
    "def create_system_message(\n",
    "    age: int, \n",
    "    background_educational_info: string, \n",
    "    course: string, \n",
    "    assignment: string,\n",
    "    template_solutions: list):\n",
    "  intro = create_system_message_intro(age, background_educational_info, course, assignment)\n",
    "  # print(\"---\\n\"+intro)\n",
    "  templates = create_system_message_templates(template_solutions)\n",
    "  # print(\"---\\n\"+templates)\n",
    "  outro = create_system_message_outro(course=course)\n",
    "  # print(\"---\\n\"+outro)\n",
    "  \n",
    "  return intro + templates + outro\n",
    "\n",
    "\n",
    "system_message = create_system_message(age=age, \n",
    "  background_educational_info=background_educational_info, \n",
    "  course=course, assignment=assignment, \n",
    "  template_solutions=template_solutions)\n",
    "print(system_message)\n"
   ]
  },
  {
   "cell_type": "markdown",
   "metadata": {},
   "source": [
    "### Workflow: Hoe maak ik de user message?\n",
    "* heb de assignment nodig, en subtitute die in een tempalte"
   ]
  },
  {
   "cell_type": "code",
   "execution_count": 21,
   "metadata": {},
   "outputs": [
    {
     "name": "stdout",
     "output_type": "stream",
     "text": [
      "Dit is de laatste inzending van de student:\n",
      "<start submission>\n",
      "Blabla ik ga deze opdracht niet doen, wat een stom vak!!!!\n",
      "<end submission>\n"
     ]
    }
   ],
   "source": [
    "def create_user_message(\n",
    "    submission: string):\n",
    "\n",
    "  # Oftewel \"1ste inzending\", oftewel altijd \"laatste inzending\" schrijven altijd...\n",
    "  user_message = string.Template(\"\"\"Dit is de laatste inzending van de student:\n",
    "<start submission>\n",
    "${submission}\n",
    "<end submission>\"\"\")\n",
    "\n",
    "  return user_message.substitute(submission=submission)\n",
    "\n",
    "\n",
    "user_message = create_user_message(submission=submission)\n",
    "print(user_message)"
   ]
  },
  {
   "cell_type": "markdown",
   "metadata": {},
   "source": [
    "### Maak de API call met een de feedback prompt en een echte submission"
   ]
  },
  {
   "cell_type": "code",
   "execution_count": 22,
   "metadata": {},
   "outputs": [],
   "source": [
    "# Test the API call with formatted messages\n",
    "completion = client.chat.completions.create(\n",
    "  model=aiModel,\n",
    "  messages=[\n",
    "    {\"role\": \"system\", \"content\": create_system_message(\n",
    "        age=age, \n",
    "        background_educational_info=background_educational_info, \n",
    "        course=course, assignment=assignment, \n",
    "        template_solutions=template_solutions)},\n",
    "    {\"role\": \"user\", \"content\": create_user_message(submission=submission)}\n",
    "  ]\n",
    ")\n",
    "\n",
    "print(completion.choices[0].message)"
   ]
  },
  {
   "cell_type": "markdown",
   "metadata": {},
   "source": [
    "# Next Step: Reading from message history"
   ]
  },
  {
   "cell_type": "markdown",
   "metadata": {},
   "source": [
    "will be done in the actual project itself"
   ]
  },
  {
   "cell_type": "markdown",
   "metadata": {},
   "source": [
    "# Next Step: Doing the above with Langchain"
   ]
  }
 ],
 "metadata": {
  "kernelspec": {
   "display_name": "aifeedbackfastapibackend",
   "language": "python",
   "name": "python3"
  },
  "language_info": {
   "codemirror_mode": {
    "name": "ipython",
    "version": 3
   },
   "file_extension": ".py",
   "mimetype": "text/x-python",
   "name": "python",
   "nbconvert_exporter": "python",
   "pygments_lexer": "ipython3",
   "version": "3.11.8"
  }
 },
 "nbformat": 4,
 "nbformat_minor": 2
}
